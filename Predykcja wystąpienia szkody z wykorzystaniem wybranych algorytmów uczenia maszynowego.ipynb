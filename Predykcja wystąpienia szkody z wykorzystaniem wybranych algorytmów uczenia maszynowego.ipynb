{
 "cells": [
  {
   "cell_type": "markdown",
   "id": "478e5569-c0e5-4ad6-96fd-0b13b267a05b",
   "metadata": {},
   "source": [
    "# Predykcja wystąpienia szkody z wykorzystaniem wybranych algorytmów uczenia maszynowego"
   ]
  },
  {
   "cell_type": "markdown",
   "id": "644f0382-914a-4f4c-ba56-38ae839d6b33",
   "metadata": {},
   "source": [
    "## OPIS I ANALIZA WYKORZYSTANYCH DANYCH"
   ]
  },
  {
   "cell_type": "markdown",
   "id": "1e8bb262-a570-437a-94a3-2c65ae90c514",
   "metadata": {},
   "source": [
    "### Ładowanie bibliotek"
   ]
  },
  {
   "cell_type": "code",
   "execution_count": 38,
   "id": "99ca5233-9365-4aee-8f2b-8c76d69d1fd5",
   "metadata": {},
   "outputs": [],
   "source": [
    "import pandas as pd\n",
    "import numpy as np\n",
    "import matplotlib.pyplot as plt\n",
    "import statsmodels.api as sm\n",
    "from collections import Counter\n",
    "from sklearn.model_selection import train_test_split\n",
    "from sklearn.compose import ColumnTransformer\n",
    "from sklearn.preprocessing import OneHotEncoder\n",
    "from imblearn.over_sampling import SMOTE\n",
    "from sklearn.linear_model import LogisticRegression\n",
    "from sklearn.metrics import classification_report\n",
    "from sklearn.tree import DecisionTreeClassifier\n",
    "from sklearn.naive_bayes import GaussianNB\n",
    "from imblearn.pipeline import Pipeline\n",
    "from sklearn.preprocessing import StandardScaler\n",
    "from sklearn.tree import DecisionTreeClassifier\n",
    "from sklearn.tree import plot_tree\n",
    "from sklearn.linear_model import LinearRegression"
   ]
  },
  {
   "cell_type": "markdown",
   "id": "ba7a5efd-9f28-48da-8215-67b25ea84266",
   "metadata": {},
   "source": [
    "### Wczytywanie danych"
   ]
  },
  {
   "cell_type": "code",
   "execution_count": 39,
   "id": "0edd71b0-22fa-43e8-8109-ff45b15fe227",
   "metadata": {},
   "outputs": [
    {
     "name": "stdout",
     "output_type": "stream",
     "text": [
      "(105555, 30)\n",
      "   ID Date_start_contract Date_last_renewal Date_next_renewal  Date_birth  \\\n",
      "0   1          05/11/2015        05/11/2015        05/11/2016  15/04/1956   \n",
      "1   1          05/11/2015        05/11/2016        05/11/2017  15/04/1956   \n",
      "2   1          05/11/2015        05/11/2017        05/11/2018  15/04/1956   \n",
      "3   1          05/11/2015        05/11/2018        05/11/2019  15/04/1956   \n",
      "4   2          26/09/2017        26/09/2017        26/09/2018  15/04/1956   \n",
      "\n",
      "  Date_driving_licence  Distribution_channel  Seniority  Policies_in_force  \\\n",
      "0           20/03/1976                     0          4                  1   \n",
      "1           20/03/1976                     0          4                  1   \n",
      "2           20/03/1976                     0          4                  2   \n",
      "3           20/03/1976                     0          4                  2   \n",
      "4           20/03/1976                     0          4                  2   \n",
      "\n",
      "   Max_policies  ...  Area  Second_driver Year_matriculation  Power  \\\n",
      "0             2  ...     0              0               2004     80   \n",
      "1             2  ...     0              0               2004     80   \n",
      "2             2  ...     0              0               2004     80   \n",
      "3             2  ...     0              0               2004     80   \n",
      "4             2  ...     0              0               2004     80   \n",
      "\n",
      "   Cylinder_capacity  Value_vehicle  N_doors  Type_fuel  Length  Weight  \n",
      "0                599         7068.0        0          P     NaN     190  \n",
      "1                599         7068.0        0          P     NaN     190  \n",
      "2                599         7068.0        0          P     NaN     190  \n",
      "3                599         7068.0        0          P     NaN     190  \n",
      "4                599         7068.0        0          P     NaN     190  \n",
      "\n",
      "[5 rows x 30 columns]\n",
      "ID                        int64\n",
      "Date_start_contract      object\n",
      "Date_last_renewal        object\n",
      "Date_next_renewal        object\n",
      "Date_birth               object\n",
      "Date_driving_licence     object\n",
      "Distribution_channel      int64\n",
      "Seniority                 int64\n",
      "Policies_in_force         int64\n",
      "Max_policies              int64\n",
      "Max_products              int64\n",
      "Lapse                     int64\n",
      "Date_lapse               object\n",
      "Payment                   int64\n",
      "Premium                 float64\n",
      "Cost_claims_year        float64\n",
      "N_claims_year             int64\n",
      "N_claims_history          int64\n",
      "R_Claims_history        float64\n",
      "Type_risk                 int64\n",
      "Area                      int64\n",
      "Second_driver             int64\n",
      "Year_matriculation        int64\n",
      "Power                     int64\n",
      "Cylinder_capacity         int64\n",
      "Value_vehicle           float64\n",
      "N_doors                   int64\n",
      "Type_fuel                object\n",
      "Length                  float64\n",
      "Weight                    int64\n",
      "dtype: object\n"
     ]
    }
   ],
   "source": [
    "df = pd.read_csv(\"C:/Python/Motor vehicle insurance data.csv\", sep = ';')\n",
    "print(df.shape)\n",
    "print(df.head())\n",
    "print(df.dtypes)"
   ]
  },
  {
   "cell_type": "markdown",
   "id": "5a141513-606d-4dbf-862f-0b4df7d39568",
   "metadata": {},
   "source": [
    "### Konwersja zmiennych dotyczących dat na odpowiedni format"
   ]
  },
  {
   "cell_type": "code",
   "execution_count": 40,
   "id": "28e8a420-947a-467b-8a2d-04c984f1078f",
   "metadata": {},
   "outputs": [],
   "source": [
    "df['Date_start_contract'] = pd.to_datetime(df['Date_start_contract'], dayfirst=True)\n",
    "df['Date_last_renewal'] = pd.to_datetime(df['Date_last_renewal'], dayfirst=True)\n",
    "df['Date_next_renewal'] = pd.to_datetime(df['Date_next_renewal'], dayfirst=True)\n",
    "df['Date_birth'] = pd.to_datetime(df['Date_birth'], dayfirst=True)\n",
    "df['Date_driving_licence'] = pd.to_datetime(df['Date_driving_licence'], dayfirst=True)\n",
    "df['Date_lapse'] = pd.to_datetime(df['Date_lapse'], dayfirst=True)"
   ]
  },
  {
   "cell_type": "markdown",
   "id": "1efa76f7-d39c-4506-97c9-a64a8f86224d",
   "metadata": {},
   "source": [
    "### Zatrzymanie jedynie najaktualniejszych rekordów"
   ]
  },
  {
   "cell_type": "code",
   "execution_count": 41,
   "id": "3dd37707-b3c5-4bab-bb87-ea0cfa6ea0ed",
   "metadata": {},
   "outputs": [],
   "source": [
    "df = df.loc[df.groupby('ID')['Date_next_renewal'].idxmax()]\n",
    "\n",
    "df = df.reset_index(drop=True)"
   ]
  },
  {
   "cell_type": "markdown",
   "id": "eeb51a5d-9077-4deb-a959-0678f00eed65",
   "metadata": {},
   "source": [
    "### Tworzenie nowych zmiennych"
   ]
  },
  {
   "cell_type": "code",
   "execution_count": 42,
   "id": "4a7a5994-ee37-49fb-9424-b5a8ba33cd0c",
   "metadata": {},
   "outputs": [],
   "source": [
    "# 'Age' - wiek ubezpieczonego (rocznikowo) \n",
    "df['Age'] = df['Date_next_renewal'].dt.year - df['Date_birth'].dt.year\n",
    "\n",
    "# 'Driver_pass_exam_yr' - wiek otrzymania prawa jazdy\n",
    "df['Driver_pass_exam_yr'] = df['Date_driving_licence'].dt.year - df['Date_birth'].dt.year\n",
    "\n",
    "# 'Min_one_policy_lapsed' - czy zerwano przynajmniej jedną polisę\n",
    "df['Min_one_policy_lapsed'] = df['Date_lapse'].isna().astype(int)\n",
    "\n",
    "# 'Vehicle_age' - wiek samochodu (rocznikowo)\n",
    "df['Vehicle_age'] = df['Date_next_renewal'].dt.year - df['Year_matriculation']\n",
    "\n",
    "# 'Cost_claims_year' -> 'Is_claim' - zamiana nazwy kolumny i odpowiednie kodowanie (zmienna zależna)\n",
    "df = df.rename(columns={'Cost_claims_year': 'Is_claim'})\n",
    "df['Is_claim'] = (df['Is_claim'] > 0).astype(int)"
   ]
  },
  {
   "cell_type": "markdown",
   "id": "e8b42cdf-eff3-42df-8c04-547eea0d014a",
   "metadata": {},
   "source": [
    "### Usuwanie zbędnych zmiennych"
   ]
  },
  {
   "cell_type": "code",
   "execution_count": 43,
   "id": "900ecfbc-9758-4b87-8e26-c325106ccbc8",
   "metadata": {},
   "outputs": [],
   "source": [
    "df = df.drop(columns = ['ID', 'Date_start_contract', 'Date_last_renewal', 'Date_next_renewal', 'Date_birth', 'Date_driving_licence', 'Lapse', 'Date_lapse', 'N_claims_year', 'R_Claims_history', 'Year_matriculation'])"
   ]
  },
  {
   "cell_type": "markdown",
   "id": "8eb16380-78d0-43de-b937-e23b0eb28ef7",
   "metadata": {},
   "source": [
    "### Konwersja zmiennych na odpowiedni format"
   ]
  },
  {
   "cell_type": "code",
   "execution_count": 44,
   "id": "ce362abf-1c96-4d78-bc18-5c436f5d8ab5",
   "metadata": {},
   "outputs": [
    {
     "data": {
      "text/plain": [
       "Distribution_channel       int64\n",
       "Seniority                  int64\n",
       "Policies_in_force          int64\n",
       "Max_policies               int64\n",
       "Max_products               int64\n",
       "Payment                    int64\n",
       "Premium                  float64\n",
       "Is_claim                   int32\n",
       "N_claims_history           int64\n",
       "Type_risk                  int64\n",
       "Area                       int64\n",
       "Second_driver              int64\n",
       "Power                      int64\n",
       "Cylinder_capacity          int64\n",
       "Value_vehicle            float64\n",
       "N_doors                    int64\n",
       "Type_fuel                 object\n",
       "Length                   float64\n",
       "Weight                     int64\n",
       "Age                        int32\n",
       "Driver_pass_exam_yr        int32\n",
       "Min_one_policy_lapsed      int32\n",
       "Vehicle_age                int64\n",
       "dtype: object"
      ]
     },
     "execution_count": 44,
     "metadata": {},
     "output_type": "execute_result"
    }
   ],
   "source": [
    "df.dtypes"
   ]
  },
  {
   "cell_type": "code",
   "execution_count": 45,
   "id": "2d97274c-dcf3-46b6-b5b1-b429c5d136e6",
   "metadata": {},
   "outputs": [],
   "source": [
    "df['Is_claim'] = df['Is_claim'].astype('int64')\n",
    "df['Age'] = df['Age'].astype('int64')\n",
    "#df['Driver_experience'] = df['Driver_experience'].astype('int64')\n",
    "df['Driver_pass_exam_yr'] = df['Driver_pass_exam_yr'].astype('int64')\n",
    "df['Min_one_policy_lapsed'] = df['Min_one_policy_lapsed'].astype('int64')\n",
    "df['Type_risk'] = df['Type_risk'].astype('object')"
   ]
  },
  {
   "cell_type": "code",
   "execution_count": 46,
   "id": "7bcd3df3-d6e1-4a20-b604-7aa45f713416",
   "metadata": {},
   "outputs": [
    {
     "data": {
      "text/plain": [
       "Distribution_channel       int64\n",
       "Seniority                  int64\n",
       "Policies_in_force          int64\n",
       "Max_policies               int64\n",
       "Max_products               int64\n",
       "Payment                    int64\n",
       "Premium                  float64\n",
       "Is_claim                   int64\n",
       "N_claims_history           int64\n",
       "Type_risk                 object\n",
       "Area                       int64\n",
       "Second_driver              int64\n",
       "Power                      int64\n",
       "Cylinder_capacity          int64\n",
       "Value_vehicle            float64\n",
       "N_doors                    int64\n",
       "Type_fuel                 object\n",
       "Length                   float64\n",
       "Weight                     int64\n",
       "Age                        int64\n",
       "Driver_pass_exam_yr        int64\n",
       "Min_one_policy_lapsed      int64\n",
       "Vehicle_age                int64\n",
       "dtype: object"
      ]
     },
     "execution_count": 46,
     "metadata": {},
     "output_type": "execute_result"
    }
   ],
   "source": [
    "df.dtypes"
   ]
  },
  {
   "cell_type": "markdown",
   "id": "eb878c29-96a9-40b9-864d-256b547898f3",
   "metadata": {},
   "source": [
    "### Weryfikacja brakujących wartości w zbiorze danych"
   ]
  },
  {
   "cell_type": "code",
   "execution_count": 47,
   "id": "1156addd-50e1-4aa4-803d-f1782e47c90c",
   "metadata": {},
   "outputs": [
    {
     "name": "stdout",
     "output_type": "stream",
     "text": [
      "Distribution_channel        0\n",
      "Seniority                   0\n",
      "Policies_in_force           0\n",
      "Max_policies                0\n",
      "Max_products                0\n",
      "Payment                     0\n",
      "Premium                     0\n",
      "Is_claim                    0\n",
      "N_claims_history            0\n",
      "Type_risk                   0\n",
      "Area                        0\n",
      "Second_driver               0\n",
      "Power                       0\n",
      "Cylinder_capacity           0\n",
      "Value_vehicle               0\n",
      "N_doors                     0\n",
      "Type_fuel                 857\n",
      "Length                   5142\n",
      "Weight                      0\n",
      "Age                         0\n",
      "Driver_pass_exam_yr         0\n",
      "Min_one_policy_lapsed       0\n",
      "Vehicle_age                 0\n",
      "dtype: int64\n"
     ]
    }
   ],
   "source": [
    "print(df.isnull().sum())"
   ]
  },
  {
   "cell_type": "markdown",
   "id": "12296564-b324-46a4-9c10-7d2e812261dd",
   "metadata": {},
   "source": [
    "### Imputacja brakujących wartości dla zmiennej 'Length' za pomocą regresji liniowej"
   ]
  },
  {
   "cell_type": "code",
   "execution_count": 48,
   "id": "5bc9e7e9-e2f0-4d40-8b3f-13eb29c44087",
   "metadata": {},
   "outputs": [
    {
     "name": "stdout",
     "output_type": "stream",
     "text": [
      "Length                   1.000000\n",
      "Weight                   0.830984\n",
      "Cylinder_capacity        0.633176\n",
      "Value_vehicle            0.605769\n",
      "Power                    0.464250\n",
      "Premium                  0.190552\n",
      "Max_policies             0.087341\n",
      "N_claims_history         0.078616\n",
      "Policies_in_force        0.077022\n",
      "Is_claim                 0.056154\n",
      "Distribution_channel     0.041913\n",
      "Payment                  0.031633\n",
      "Max_products             0.014742\n",
      "Age                      0.012301\n",
      "N_doors                  0.011920\n",
      "Min_one_policy_lapsed    0.009915\n",
      "Area                    -0.009252\n",
      "Seniority               -0.042299\n",
      "Driver_pass_exam_yr     -0.052145\n",
      "Vehicle_age             -0.072767\n",
      "Second_driver           -0.081515\n",
      "Name: Length, dtype: float64\n"
     ]
    }
   ],
   "source": [
    "correlations = df.corr(numeric_only=True)['Length'].sort_values(ascending=False)\n",
    "print(correlations)"
   ]
  },
  {
   "cell_type": "code",
   "execution_count": 49,
   "id": "e60a6aa5-4e6d-44e4-ab0d-78f13898768c",
   "metadata": {},
   "outputs": [],
   "source": [
    "X_known = df[df['Length'].notna()]\n",
    "X_missing = df[df['Length'].isna()]\n",
    "\n",
    "# Dobra korelacja ze zmiennymi 'Weight' oraz 'Cylinder_capacity'\n",
    "features = ['Weight', 'Cylinder_capacity']\n",
    "\n",
    "model = LinearRegression()\n",
    "model.fit(X_known[features], X_known['Length'])\n",
    "\n",
    "predicted_lengths = model.predict(X_missing[features])\n",
    "\n",
    "df.loc[df['Length'].isna(), 'Length'] = predicted_lengths"
   ]
  },
  {
   "cell_type": "markdown",
   "id": "b5cfce0e-ea28-4bfd-8a49-119c3c5efe6c",
   "metadata": {},
   "source": [
    "### Imputacja brakujących wartości dla zmiennej 'Type_fuel' za pomocą wartości 'Unknown'"
   ]
  },
  {
   "cell_type": "code",
   "execution_count": 50,
   "id": "889745a2-8f29-4209-aa97-b78217c482a7",
   "metadata": {},
   "outputs": [],
   "source": [
    "df['Type_fuel'] = df['Type_fuel'].fillna('Unknown')"
   ]
  },
  {
   "cell_type": "markdown",
   "id": "6c963ae1-4623-4a3f-9ea7-385085a31dc7",
   "metadata": {},
   "source": [
    "### Podstawowe statystyki opisowe zmiennych"
   ]
  },
  {
   "cell_type": "code",
   "execution_count": 51,
   "id": "13fd8e39-c88c-4163-8897-e83729a84623",
   "metadata": {},
   "outputs": [
    {
     "data": {
      "text/html": [
       "<div>\n",
       "<style scoped>\n",
       "    .dataframe tbody tr th:only-of-type {\n",
       "        vertical-align: middle;\n",
       "    }\n",
       "\n",
       "    .dataframe tbody tr th {\n",
       "        vertical-align: top;\n",
       "    }\n",
       "\n",
       "    .dataframe thead th {\n",
       "        text-align: right;\n",
       "    }\n",
       "</style>\n",
       "<table border=\"1\" class=\"dataframe\">\n",
       "  <thead>\n",
       "    <tr style=\"text-align: right;\">\n",
       "      <th></th>\n",
       "      <th>count</th>\n",
       "      <th>mean</th>\n",
       "      <th>std</th>\n",
       "      <th>min</th>\n",
       "      <th>25%</th>\n",
       "      <th>50%</th>\n",
       "      <th>75%</th>\n",
       "      <th>max</th>\n",
       "    </tr>\n",
       "  </thead>\n",
       "  <tbody>\n",
       "    <tr>\n",
       "      <th>Distribution_channel</th>\n",
       "      <td>53502.0</td>\n",
       "      <td>0.48</td>\n",
       "      <td>0.50</td>\n",
       "      <td>0.00</td>\n",
       "      <td>0.00</td>\n",
       "      <td>0.00</td>\n",
       "      <td>1.00</td>\n",
       "      <td>1.00</td>\n",
       "    </tr>\n",
       "    <tr>\n",
       "      <th>Seniority</th>\n",
       "      <td>53502.0</td>\n",
       "      <td>5.79</td>\n",
       "      <td>5.91</td>\n",
       "      <td>1.00</td>\n",
       "      <td>2.00</td>\n",
       "      <td>4.00</td>\n",
       "      <td>7.00</td>\n",
       "      <td>40.00</td>\n",
       "    </tr>\n",
       "    <tr>\n",
       "      <th>Policies_in_force</th>\n",
       "      <td>53502.0</td>\n",
       "      <td>1.51</td>\n",
       "      <td>1.03</td>\n",
       "      <td>1.00</td>\n",
       "      <td>1.00</td>\n",
       "      <td>1.00</td>\n",
       "      <td>2.00</td>\n",
       "      <td>17.00</td>\n",
       "    </tr>\n",
       "    <tr>\n",
       "      <th>Max_policies</th>\n",
       "      <td>53502.0</td>\n",
       "      <td>1.86</td>\n",
       "      <td>1.22</td>\n",
       "      <td>1.00</td>\n",
       "      <td>1.00</td>\n",
       "      <td>2.00</td>\n",
       "      <td>2.00</td>\n",
       "      <td>17.00</td>\n",
       "    </tr>\n",
       "    <tr>\n",
       "      <th>Max_products</th>\n",
       "      <td>53502.0</td>\n",
       "      <td>1.06</td>\n",
       "      <td>0.26</td>\n",
       "      <td>1.00</td>\n",
       "      <td>1.00</td>\n",
       "      <td>1.00</td>\n",
       "      <td>1.00</td>\n",
       "      <td>4.00</td>\n",
       "    </tr>\n",
       "    <tr>\n",
       "      <th>Payment</th>\n",
       "      <td>53502.0</td>\n",
       "      <td>0.34</td>\n",
       "      <td>0.47</td>\n",
       "      <td>0.00</td>\n",
       "      <td>0.00</td>\n",
       "      <td>0.00</td>\n",
       "      <td>1.00</td>\n",
       "      <td>1.00</td>\n",
       "    </tr>\n",
       "    <tr>\n",
       "      <th>Premium</th>\n",
       "      <td>53502.0</td>\n",
       "      <td>320.05</td>\n",
       "      <td>144.10</td>\n",
       "      <td>40.18</td>\n",
       "      <td>242.81</td>\n",
       "      <td>295.71</td>\n",
       "      <td>367.40</td>\n",
       "      <td>2596.77</td>\n",
       "    </tr>\n",
       "    <tr>\n",
       "      <th>Is_claim</th>\n",
       "      <td>53502.0</td>\n",
       "      <td>0.11</td>\n",
       "      <td>0.31</td>\n",
       "      <td>0.00</td>\n",
       "      <td>0.00</td>\n",
       "      <td>0.00</td>\n",
       "      <td>0.00</td>\n",
       "      <td>1.00</td>\n",
       "    </tr>\n",
       "    <tr>\n",
       "      <th>N_claims_history</th>\n",
       "      <td>53502.0</td>\n",
       "      <td>2.61</td>\n",
       "      <td>3.83</td>\n",
       "      <td>0.00</td>\n",
       "      <td>0.00</td>\n",
       "      <td>1.00</td>\n",
       "      <td>4.00</td>\n",
       "      <td>52.00</td>\n",
       "    </tr>\n",
       "    <tr>\n",
       "      <th>Area</th>\n",
       "      <td>53502.0</td>\n",
       "      <td>0.27</td>\n",
       "      <td>0.45</td>\n",
       "      <td>0.00</td>\n",
       "      <td>0.00</td>\n",
       "      <td>0.00</td>\n",
       "      <td>1.00</td>\n",
       "      <td>1.00</td>\n",
       "    </tr>\n",
       "    <tr>\n",
       "      <th>Second_driver</th>\n",
       "      <td>53502.0</td>\n",
       "      <td>0.13</td>\n",
       "      <td>0.33</td>\n",
       "      <td>0.00</td>\n",
       "      <td>0.00</td>\n",
       "      <td>0.00</td>\n",
       "      <td>0.00</td>\n",
       "      <td>1.00</td>\n",
       "    </tr>\n",
       "    <tr>\n",
       "      <th>Power</th>\n",
       "      <td>53502.0</td>\n",
       "      <td>93.30</td>\n",
       "      <td>37.27</td>\n",
       "      <td>0.00</td>\n",
       "      <td>75.00</td>\n",
       "      <td>90.00</td>\n",
       "      <td>110.00</td>\n",
       "      <td>580.00</td>\n",
       "    </tr>\n",
       "    <tr>\n",
       "      <th>Cylinder_capacity</th>\n",
       "      <td>53502.0</td>\n",
       "      <td>1618.95</td>\n",
       "      <td>597.01</td>\n",
       "      <td>49.00</td>\n",
       "      <td>1390.00</td>\n",
       "      <td>1598.00</td>\n",
       "      <td>1910.00</td>\n",
       "      <td>7480.00</td>\n",
       "    </tr>\n",
       "    <tr>\n",
       "      <th>Value_vehicle</th>\n",
       "      <td>53502.0</td>\n",
       "      <td>18557.61</td>\n",
       "      <td>9237.45</td>\n",
       "      <td>270.46</td>\n",
       "      <td>13200.00</td>\n",
       "      <td>17770.00</td>\n",
       "      <td>22780.00</td>\n",
       "      <td>220675.80</td>\n",
       "    </tr>\n",
       "    <tr>\n",
       "      <th>N_doors</th>\n",
       "      <td>53502.0</td>\n",
       "      <td>4.07</td>\n",
       "      <td>1.50</td>\n",
       "      <td>0.00</td>\n",
       "      <td>3.00</td>\n",
       "      <td>5.00</td>\n",
       "      <td>5.00</td>\n",
       "      <td>6.00</td>\n",
       "    </tr>\n",
       "    <tr>\n",
       "      <th>Length</th>\n",
       "      <td>53502.0</td>\n",
       "      <td>4.16</td>\n",
       "      <td>0.59</td>\n",
       "      <td>1.98</td>\n",
       "      <td>3.94</td>\n",
       "      <td>4.20</td>\n",
       "      <td>4.44</td>\n",
       "      <td>11.73</td>\n",
       "    </tr>\n",
       "    <tr>\n",
       "      <th>Weight</th>\n",
       "      <td>53502.0</td>\n",
       "      <td>1190.75</td>\n",
       "      <td>444.62</td>\n",
       "      <td>43.00</td>\n",
       "      <td>1049.00</td>\n",
       "      <td>1211.00</td>\n",
       "      <td>1389.00</td>\n",
       "      <td>7300.00</td>\n",
       "    </tr>\n",
       "    <tr>\n",
       "      <th>Age</th>\n",
       "      <td>53502.0</td>\n",
       "      <td>48.22</td>\n",
       "      <td>12.81</td>\n",
       "      <td>19.00</td>\n",
       "      <td>38.00</td>\n",
       "      <td>48.00</td>\n",
       "      <td>57.00</td>\n",
       "      <td>99.00</td>\n",
       "    </tr>\n",
       "    <tr>\n",
       "      <th>Driver_pass_exam_yr</th>\n",
       "      <td>53502.0</td>\n",
       "      <td>22.67</td>\n",
       "      <td>6.25</td>\n",
       "      <td>18.00</td>\n",
       "      <td>19.00</td>\n",
       "      <td>20.00</td>\n",
       "      <td>24.00</td>\n",
       "      <td>72.00</td>\n",
       "    </tr>\n",
       "    <tr>\n",
       "      <th>Min_one_policy_lapsed</th>\n",
       "      <td>53502.0</td>\n",
       "      <td>0.62</td>\n",
       "      <td>0.48</td>\n",
       "      <td>0.00</td>\n",
       "      <td>0.00</td>\n",
       "      <td>1.00</td>\n",
       "      <td>1.00</td>\n",
       "      <td>1.00</td>\n",
       "    </tr>\n",
       "    <tr>\n",
       "      <th>Vehicle_age</th>\n",
       "      <td>53502.0</td>\n",
       "      <td>13.72</td>\n",
       "      <td>6.77</td>\n",
       "      <td>1.00</td>\n",
       "      <td>10.00</td>\n",
       "      <td>14.00</td>\n",
       "      <td>17.00</td>\n",
       "      <td>69.00</td>\n",
       "    </tr>\n",
       "  </tbody>\n",
       "</table>\n",
       "</div>"
      ],
      "text/plain": [
       "                         count      mean      std     min       25%       50%  \\\n",
       "Distribution_channel   53502.0      0.48     0.50    0.00      0.00      0.00   \n",
       "Seniority              53502.0      5.79     5.91    1.00      2.00      4.00   \n",
       "Policies_in_force      53502.0      1.51     1.03    1.00      1.00      1.00   \n",
       "Max_policies           53502.0      1.86     1.22    1.00      1.00      2.00   \n",
       "Max_products           53502.0      1.06     0.26    1.00      1.00      1.00   \n",
       "Payment                53502.0      0.34     0.47    0.00      0.00      0.00   \n",
       "Premium                53502.0    320.05   144.10   40.18    242.81    295.71   \n",
       "Is_claim               53502.0      0.11     0.31    0.00      0.00      0.00   \n",
       "N_claims_history       53502.0      2.61     3.83    0.00      0.00      1.00   \n",
       "Area                   53502.0      0.27     0.45    0.00      0.00      0.00   \n",
       "Second_driver          53502.0      0.13     0.33    0.00      0.00      0.00   \n",
       "Power                  53502.0     93.30    37.27    0.00     75.00     90.00   \n",
       "Cylinder_capacity      53502.0   1618.95   597.01   49.00   1390.00   1598.00   \n",
       "Value_vehicle          53502.0  18557.61  9237.45  270.46  13200.00  17770.00   \n",
       "N_doors                53502.0      4.07     1.50    0.00      3.00      5.00   \n",
       "Length                 53502.0      4.16     0.59    1.98      3.94      4.20   \n",
       "Weight                 53502.0   1190.75   444.62   43.00   1049.00   1211.00   \n",
       "Age                    53502.0     48.22    12.81   19.00     38.00     48.00   \n",
       "Driver_pass_exam_yr    53502.0     22.67     6.25   18.00     19.00     20.00   \n",
       "Min_one_policy_lapsed  53502.0      0.62     0.48    0.00      0.00      1.00   \n",
       "Vehicle_age            53502.0     13.72     6.77    1.00     10.00     14.00   \n",
       "\n",
       "                            75%        max  \n",
       "Distribution_channel       1.00       1.00  \n",
       "Seniority                  7.00      40.00  \n",
       "Policies_in_force          2.00      17.00  \n",
       "Max_policies               2.00      17.00  \n",
       "Max_products               1.00       4.00  \n",
       "Payment                    1.00       1.00  \n",
       "Premium                  367.40    2596.77  \n",
       "Is_claim                   0.00       1.00  \n",
       "N_claims_history           4.00      52.00  \n",
       "Area                       1.00       1.00  \n",
       "Second_driver              0.00       1.00  \n",
       "Power                    110.00     580.00  \n",
       "Cylinder_capacity       1910.00    7480.00  \n",
       "Value_vehicle          22780.00  220675.80  \n",
       "N_doors                    5.00       6.00  \n",
       "Length                     4.44      11.73  \n",
       "Weight                  1389.00    7300.00  \n",
       "Age                       57.00      99.00  \n",
       "Driver_pass_exam_yr       24.00      72.00  \n",
       "Min_one_policy_lapsed      1.00       1.00  \n",
       "Vehicle_age               17.00      69.00  "
      ]
     },
     "execution_count": 51,
     "metadata": {},
     "output_type": "execute_result"
    }
   ],
   "source": [
    "df.describe().T.round(2)"
   ]
  },
  {
   "cell_type": "markdown",
   "id": "183aa86f-f069-4e19-a77d-dbe692f3b9d5",
   "metadata": {},
   "source": [
    "### Badanie rozkładu zmiennej zależnej 'Is_claim'"
   ]
  },
  {
   "cell_type": "code",
   "execution_count": 52,
   "id": "17bca2b0-b2f8-4845-b02f-05abdb7db957",
   "metadata": {},
   "outputs": [
    {
     "name": "stdout",
     "output_type": "stream",
     "text": [
      "Rozkład zmiennej zależnej: Counter({0: 47552, 1: 5950})\n"
     ]
    },
    {
     "data": {
      "image/png": "[encoded data removed]",
      "text/plain": [
       "<Figure size 640x480 with 1 Axes>"
      ]
     },
     "metadata": {},
     "output_type": "display_data"
    }
   ],
   "source": [
    "print(\"Rozkład zmiennej zależnej:\", Counter(df['Is_claim']))\n",
    "\n",
    "pd.Series(df['Is_claim']).value_counts().sort_index().plot(\n",
    "    kind='bar',\n",
    "    color=['skyblue', 'orange']\n",
    ")\n",
    "\n",
    "plt.xlabel(\"Zmienna zależna\")\n",
    "plt.ylabel(\"Liczność\")\n",
    "plt.xticks(rotation=0)\n",
    "plt.title(\"\")\n",
    "plt.show()"
   ]
  },
  {
   "cell_type": "markdown",
   "id": "2e179741-1490-4689-8728-ab6cdb5c1358",
   "metadata": {},
   "source": [
    "### Rozdzielenie danych na zmienne niezależne i zmienną zależną"
   ]
  },
  {
   "cell_type": "code",
   "execution_count": 53,
   "id": "69ccd672-f23b-495e-af4c-c70db78fcbd8",
   "metadata": {},
   "outputs": [],
   "source": [
    "X = df.drop(columns=['Is_claim'])\n",
    "y = df[\"Is_claim\"]"
   ]
  },
  {
   "cell_type": "markdown",
   "id": "c09e97af-3bec-4de3-8bda-58aa9de86547",
   "metadata": {},
   "source": [
    "### Podział na zbiór treningowy i testowy"
   ]
  },
  {
   "cell_type": "code",
   "execution_count": 54,
   "id": "d6d40c85-62b8-4a0b-ba3b-ed48ea50662f",
   "metadata": {},
   "outputs": [],
   "source": [
    "# Proporcje: 80% - zbiór uczący; 20% zbiór testowy\n",
    "X_train, X_test, y_train, y_test = train_test_split(X, y, test_size=0.2, stratify=y, random_state=42)"
   ]
  },
  {
   "cell_type": "markdown",
   "id": "23d17fcb-8dbf-49f2-8397-749c8bc9ce0b",
   "metadata": {},
   "source": [
    "## REGRESJA LOGISTYCZNA"
   ]
  },
  {
   "cell_type": "markdown",
   "id": "96b9c577-d412-48fe-b85e-21e8ca66d0f8",
   "metadata": {},
   "source": [
    "### Kodowanie zmiennych ilościowych i jakościowych (pierwszy model)"
   ]
  },
  {
   "cell_type": "code",
   "execution_count": 55,
   "id": "411c9174-9fc7-4cc5-acf2-ff5340a9288f",
   "metadata": {},
   "outputs": [],
   "source": [
    "categorical_cols_lr = [\n",
    "    col for col in X_train.columns\n",
    "    if X_train[col].dtype == \"object\"\n",
    "]\n",
    "\n",
    "numerical_cols_lr = [\n",
    "    col for col in X_train.columns\n",
    "    if X_train[col].dtype in [\"int64\", \"float64\"]\n",
    "]\n",
    "\n",
    "preprocessor_lr = ColumnTransformer(\n",
    "    transformers=[\n",
    "        (\"cat\", OneHotEncoder(drop='first', handle_unknown=\"ignore\", sparse_output=False), categorical_cols_lr),\n",
    "        (\"num\", StandardScaler(), numerical_cols_lr)\n",
    "    ]\n",
    ")"
   ]
  },
  {
   "cell_type": "markdown",
   "id": "75a2d6e6-47ce-401f-bbdb-0bda5c2afe9c",
   "metadata": {},
   "source": [
    "### Budowa i ocena pierwszego modelu"
   ]
  },
  {
   "cell_type": "code",
   "execution_count": 56,
   "id": "e2022abe-7d0e-47b8-abe1-0af2c95d98cb",
   "metadata": {},
   "outputs": [
    {
     "name": "stdout",
     "output_type": "stream",
     "text": [
      "Regresja logistyczna (pierwszy model):\n",
      "               precision    recall  f1-score   support\n",
      "\n",
      "           0       0.96      0.78      0.86      9511\n",
      "           1       0.30      0.77      0.44      1190\n",
      "\n",
      "    accuracy                           0.78     10701\n",
      "   macro avg       0.63      0.77      0.65     10701\n",
      "weighted avg       0.89      0.78      0.81     10701\n",
      "\n"
     ]
    }
   ],
   "source": [
    "model_lr = Pipeline([\n",
    "    (\"preprocessing\", preprocessor_lr),\n",
    "    (\"smote\", SMOTE(random_state=42)),\n",
    "    (\"classifier\", LogisticRegression(\n",
    "        random_state=42,\n",
    "    ))\n",
    "])\n",
    "\n",
    "model_lr.fit(X_train, y_train)\n",
    "\n",
    "y_pred_lr = model_lr.predict(X_test)\n",
    "\n",
    "print(\"Regresja logistyczna (pierwszy model):\\n\", classification_report(y_test, y_pred_lr))"
   ]
  },
  {
   "cell_type": "markdown",
   "id": "8db2ee03-37a2-4b4d-9041-b1aa66bc46c7",
   "metadata": {},
   "source": [
    "### Badanie współliniowości"
   ]
  },
  {
   "cell_type": "code",
   "execution_count": 57,
   "id": "43f333ba-8a7c-4fb1-9faf-6ea9bcc339f4",
   "metadata": {},
   "outputs": [
    {
     "name": "stdout",
     "output_type": "stream",
     "text": [
      "Do usunięcia: ['Weight']\n"
     ]
    }
   ],
   "source": [
    "numeric_df = X_train.select_dtypes(include=[np.number])\n",
    "\n",
    "corr_matrix = numeric_df.corr().abs()\n",
    "\n",
    "upper = corr_matrix.where(np.triu(np.ones(corr_matrix.shape), k=1).astype(bool))\n",
    "\n",
    "to_drop = [column for column in upper.columns if any(upper[column] > 0.9)]\n",
    "\n",
    "print(\"Do usunięcia:\", to_drop)\n",
    "\n",
    "X_train_lr = X_train.drop(columns=to_drop)"
   ]
  },
  {
   "cell_type": "markdown",
   "id": "b31ef76a-5317-4a38-ba68-8c2032ab89b1",
   "metadata": {},
   "source": [
    "### Usuwanie Outliers w zmiennych ilościowych"
   ]
  },
  {
   "cell_type": "code",
   "execution_count": 58,
   "id": "db028033-874c-48ff-bc11-fa212a5c40a3",
   "metadata": {},
   "outputs": [
    {
     "data": {
      "text/plain": [
       "(42801, 21)"
      ]
     },
     "execution_count": 58,
     "metadata": {},
     "output_type": "execute_result"
    }
   ],
   "source": [
    "X_train_lr.shape"
   ]
  },
  {
   "cell_type": "code",
   "execution_count": 59,
   "id": "d50c767b-f89f-4098-bca0-a60980903df9",
   "metadata": {},
   "outputs": [
    {
     "name": "stdout",
     "output_type": "stream",
     "text": [
      "Po usunięciu Outliers: (34760, 21)\n"
     ]
    }
   ],
   "source": [
    "def remove_outliers_iqr_Xy(X, y, columns):\n",
    "    \n",
    "    X_ = X.copy()\n",
    "    y_ = y.copy()\n",
    "\n",
    "    mask = pd.Series([True] * X_.shape[0], index=X_.index)\n",
    "\n",
    "    for col in columns:\n",
    "        Q1 = X_[col].quantile(0.25)\n",
    "        Q3 = X_[col].quantile(0.75)\n",
    "        IQR = Q3 - Q1\n",
    "        lower_bound = Q1 - 1.5 * IQR\n",
    "        upper_bound = Q3 +  1.5 * IQR\n",
    "        mask &= X_[col].between(lower_bound, upper_bound)\n",
    "\n",
    "    return X_[mask], y_[mask]\n",
    "\n",
    "numerical_cols_lr2 = [\n",
    "    col for col in X_train_lr.columns\n",
    "    if X_train_lr[col].dtype in [\"float64\"]\n",
    "]\n",
    "\n",
    "X_train_lr, y_train_lr = remove_outliers_iqr_Xy(X_train_lr, y_train, numerical_cols_lr2)\n",
    "\n",
    "print(\"Po usunięciu Outliers:\", X_train_lr.shape)"
   ]
  },
  {
   "cell_type": "markdown",
   "id": "611e31ab-7250-48ac-a0cd-550c17ae2045",
   "metadata": {},
   "source": [
    "### Kodowanie zmiennych ilościowych i jakościowych (drugi model)"
   ]
  },
  {
   "cell_type": "code",
   "execution_count": 60,
   "id": "a4eee848-36ab-4580-983f-367155ce1217",
   "metadata": {},
   "outputs": [],
   "source": [
    "categorical_cols_lr2 = [\n",
    "    col for col in X_train_lr.columns\n",
    "    if X_train_lr[col].dtype == \"object\"\n",
    "]\n",
    "\n",
    "numerical_cols_lr2 = [\n",
    "    col for col in X_train_lr.columns\n",
    "    if X_train_lr[col].dtype in [\"int64\", \"float64\"]\n",
    "]\n",
    "\n",
    "preprocessor_lr2 = ColumnTransformer(\n",
    "    transformers=[\n",
    "        (\"cat\", OneHotEncoder(drop = 'first', handle_unknown=\"ignore\", sparse_output=True), categorical_cols_lr2),\n",
    "        (\"num\", StandardScaler(), numerical_cols_lr2)\n",
    "    ]\n",
    ")"
   ]
  },
  {
   "cell_type": "markdown",
   "id": "2bad9057-4502-4a8b-b3b0-1751068dfa97",
   "metadata": {},
   "source": [
    "### Budowa i ocena drugiego modelu"
   ]
  },
  {
   "cell_type": "code",
   "execution_count": 61,
   "id": "7976fe20-2ece-4b79-9638-08622801b5a1",
   "metadata": {},
   "outputs": [
    {
     "name": "stdout",
     "output_type": "stream",
     "text": [
      "Regresja logistyczna (drugi model):\n",
      "               precision    recall  f1-score   support\n",
      "\n",
      "           0       0.96      0.79      0.87      9511\n",
      "           1       0.31      0.75      0.44      1190\n",
      "\n",
      "    accuracy                           0.79     10701\n",
      "   macro avg       0.64      0.77      0.65     10701\n",
      "weighted avg       0.89      0.79      0.82     10701\n",
      "\n"
     ]
    }
   ],
   "source": [
    "model_lr2 = Pipeline([\n",
    "    (\"preprocessing\", preprocessor_lr2),\n",
    "    (\"smote\", SMOTE(random_state=42)),\n",
    "    (\"classifier\", LogisticRegression(\n",
    "        class_weight='balanced',\n",
    "        max_iter=2000,\n",
    "        random_state=42,\n",
    "    ))\n",
    "])\n",
    "\n",
    "model_lr2.fit(X_train_lr, y_train_lr)\n",
    "\n",
    "y_pred_lr2 = model_lr2.predict(X_test)\n",
    "\n",
    "print(\"Regresja logistyczna (drugi model):\\n\", classification_report(y_test, y_pred_lr2))"
   ]
  },
  {
   "cell_type": "markdown",
   "id": "92d96339-dad4-4a6d-93b8-dbfcce83265c",
   "metadata": {},
   "source": [
    "### Współczynniki i badanie ich istotności dla pierwszego modelu regresji logistycznej"
   ]
  },
  {
   "cell_type": "code",
   "execution_count": 62,
   "id": "c2635a71-e478-4f2e-b1db-7623e862a74c",
   "metadata": {},
   "outputs": [
    {
     "name": "stdout",
     "output_type": "stream",
     "text": [
      "                          Zmienna  Współczynnik        p-value\n",
      "x13         num__N_claims_history      1.739716   0.000000e+00\n",
      "x7                 num__Seniority     -1.463850   0.000000e+00\n",
      "x9              num__Max_policies     -0.812899  1.203444e-292\n",
      "x8         num__Policies_in_force      0.689644  3.959870e-257\n",
      "x11                  num__Payment      0.178424   4.331335e-93\n",
      "x24    num__Min_one_policy_lapsed      0.176811   2.554931e-83\n",
      "x22                      num__Age     -0.133837   8.858461e-41\n",
      "const                   Intercept     -0.848846   3.207180e-25\n",
      "x23      num__Driver_pass_exam_yr      0.081842   2.679788e-19\n",
      "x15            num__Second_driver      0.070076   1.686715e-16\n",
      "x4               cat__Type_fuel_P     -0.166136   4.294721e-13\n",
      "x6      num__Distribution_channel      0.053528   2.490728e-09\n",
      "x12                  num__Premium     -0.047883   3.598741e-06\n",
      "x20                   num__Length      0.128260   3.680726e-06\n",
      "x19                  num__N_doors      0.079048   4.216089e-06\n",
      "x10             num__Max_products      0.055354   3.826632e-05\n",
      "x17        num__Cylinder_capacity      0.099912   6.834541e-05\n",
      "x25              num__Vehicle_age     -0.045066   2.932743e-04\n",
      "x5         cat__Type_fuel_Unknown      0.402372   1.048127e-03\n",
      "x2               cat__Type_risk_3      0.265995   2.142598e-03\n",
      "x16                    num__Power     -0.043018   1.656510e-02\n",
      "x21                   num__Weight     -0.068126   9.948080e-02\n",
      "x1               cat__Type_risk_2      0.100658   3.115215e-01\n",
      "x14                     num__Area     -0.005296   5.430585e-01\n",
      "x3               cat__Type_risk_4    -12.040770   7.141904e-01\n",
      "x18            num__Value_vehicle     -0.000644   9.758849e-01\n"
     ]
    }
   ],
   "source": [
    "X_processed = model_lr.named_steps[\"preprocessing\"].transform(X_train)\n",
    "X_resampled, y_resampled = model_lr.named_steps[\"smote\"].fit_resample(X_processed, y_train)\n",
    "\n",
    "X_resampled_const = sm.add_constant(X_resampled)\n",
    "\n",
    "model_sm = sm.Logit(y_resampled, X_resampled_const)\n",
    "results = model_sm.fit(method='lbfgs', maxiter=1000)\n",
    "\n",
    "feature_names_cat = model_lr.named_steps[\"preprocessing\"].named_transformers_[\"cat\"].get_feature_names_out(categorical_cols_lr)\n",
    "feature_names_num = numerical_cols_lr\n",
    "feature_names_all = [\"Intercept\"] + list(model_lr.named_steps[\"preprocessing\"].get_feature_names_out())\n",
    "\n",
    "df_results = pd.DataFrame({\n",
    "    \"Zmienna\": feature_names_all,\n",
    "    \"Współczynnik\": results.params,\n",
    "    \"p-value\": results.pvalues,\n",
    "})\n",
    "\n",
    "df_results_sorted = df_results.sort_values(by=\"p-value\", ascending=True, na_position='last')\n",
    "\n",
    "print(df_results_sorted)"
   ]
  },
  {
   "cell_type": "markdown",
   "id": "cbb07439-46bd-460d-9814-e281597561ce",
   "metadata": {},
   "source": [
    "## DRZEWA DECYZYJNE"
   ]
  },
  {
   "cell_type": "markdown",
   "id": "60b53ebc-e3b3-4e22-96e9-af17eab3a7ea",
   "metadata": {},
   "source": [
    "### Kodowanie zmiennych ilościowych i jakościowych (pierwszy model)"
   ]
  },
  {
   "cell_type": "code",
   "execution_count": 63,
   "id": "5908e957-7075-4ce8-a39e-02371bb1d05e",
   "metadata": {},
   "outputs": [],
   "source": [
    "categorical_cols_dt = [\n",
    "    col for col in X_train.columns\n",
    "    if X_train[col].dtype == \"object\"\n",
    "]\n",
    "\n",
    "numerical_cols_dt = [\n",
    "    col for col in X_train.columns\n",
    "    if X_train[col].dtype in [\"int64\", \"float64\"]\n",
    "]\n",
    "\n",
    "preprocessor_dt = ColumnTransformer(\n",
    "    transformers=[\n",
    "        (\"cat\", OneHotEncoder(handle_unknown=\"ignore\", sparse_output=False), categorical_cols_lr),\n",
    "        (\"num\", \"passthrough\", numerical_cols_dt)\n",
    "    ]\n",
    ")"
   ]
  },
  {
   "cell_type": "markdown",
   "id": "42464de8-fd6f-4950-b250-05586c699db2",
   "metadata": {},
   "source": [
    "### Budowa i ocena pierwszego modelu"
   ]
  },
  {
   "cell_type": "code",
   "execution_count": 64,
   "id": "747739cc-8194-487a-a009-ae8025e57600",
   "metadata": {},
   "outputs": [
    {
     "name": "stdout",
     "output_type": "stream",
     "text": [
      "Drzewo decyzyjne (pierwszy model):\n",
      "               precision    recall  f1-score   support\n",
      "\n",
      "           0       0.93      0.92      0.92      9511\n",
      "           1       0.39      0.44      0.41      1190\n",
      "\n",
      "    accuracy                           0.86     10701\n",
      "   macro avg       0.66      0.68      0.67     10701\n",
      "weighted avg       0.87      0.86      0.87     10701\n",
      "\n"
     ]
    }
   ],
   "source": [
    "model_dt = Pipeline([\n",
    "    (\"preprocessing\", preprocessor_dt),\n",
    "    (\"smote\", SMOTE(random_state=42)),\n",
    "    (\"classifier\", DecisionTreeClassifier(\n",
    "        random_state=42\n",
    "    ))\n",
    "])\n",
    "\n",
    "model_dt.fit(X_train, y_train)\n",
    "\n",
    "y_pred_dt = model_dt.predict(X_test)\n",
    "print(\"Drzewo decyzyjne (pierwszy model):\\n\", classification_report(y_test, y_pred_dt))"
   ]
  },
  {
   "cell_type": "markdown",
   "id": "461448ea-7f91-4ceb-a801-68a1a1e601b0",
   "metadata": {},
   "source": [
    "### Optymalizacja hiperparametrów, budowa i ocena drugiego modelu"
   ]
  },
  {
   "cell_type": "code",
   "execution_count": 65,
   "id": "4e08da04-ffcd-4845-b557-4b10f0813183",
   "metadata": {},
   "outputs": [
    {
     "name": "stdout",
     "output_type": "stream",
     "text": [
      "              precision    recall  f1-score   support\n",
      "\n",
      "           0       0.94      0.94      0.94      9511\n",
      "           1       0.51      0.49      0.50      1190\n",
      "\n",
      "    accuracy                           0.89     10701\n",
      "   macro avg       0.72      0.71      0.72     10701\n",
      "weighted avg       0.89      0.89      0.89     10701\n",
      "\n"
     ]
    }
   ],
   "source": [
    "from sklearn.model_selection import GridSearchCV\n",
    "\n",
    "param_grid = {\n",
    "    'classifier__max_depth': [5, 10, 20, None],\n",
    "    'classifier__min_samples_split': [2, 5, 10, 20],\n",
    "    'classifier__min_samples_leaf': [1, 2, 4, 10],\n",
    "    'classifier__criterion': ['gini', 'entropy']\n",
    "}\n",
    "\n",
    "grid_search = GridSearchCV(model_dt, param_grid, cv=5, scoring='f1', n_jobs=-1)\n",
    "grid_search.fit(X_train, y_train)\n",
    "\n",
    "model_dt2 = grid_search.best_estimator_\n",
    "y_pred_best = model_dt2.predict(X_test)\n",
    "model_dt2 = grid_search.best_estimator_\n",
    "print(classification_report(y_test, y_pred_best))"
   ]
  },
  {
   "cell_type": "code",
   "execution_count": 66,
   "id": "77ca4ce3-2224-4c11-96f3-d0988f49b64a",
   "metadata": {},
   "outputs": [
    {
     "name": "stdout",
     "output_type": "stream",
     "text": [
      "Najlepsze hiperparametry:\n",
      "{'classifier__criterion': 'gini', 'classifier__max_depth': 10, 'classifier__min_samples_leaf': 10, 'classifier__min_samples_split': 2}\n"
     ]
    }
   ],
   "source": [
    "print(\"Najlepsze hiperparametry:\")\n",
    "print(grid_search.best_params_)"
   ]
  },
  {
   "cell_type": "markdown",
   "id": "7e426b8d-80b3-426d-8295-c63dae51a474",
   "metadata": {},
   "source": [
    "### Wizualizacja drzewa decyzyjnego (drugi model)"
   ]
  },
  {
   "cell_type": "code",
   "execution_count": 67,
   "id": "a8902793-b466-4125-ab76-f8a9d9814778",
   "metadata": {},
   "outputs": [
    {
     "data": {
      "image/png": "[encoded data removed]",
      "text/plain": [
       "<Figure size 1500x800 with 1 Axes>"
      ]
     },
     "metadata": {},
     "output_type": "display_data"
    }
   ],
   "source": [
    "plt.figure(figsize=(15, 8))\n",
    "plot_tree(\n",
    "    model_dt2.named_steps['classifier'],\n",
    "    filled=True,\n",
    "    rounded=True,\n",
    "    feature_names=model_dt2.named_steps[\"preprocessing\"].get_feature_names_out(),\n",
    "    class_names=sorted(y_train.unique().astype(str)),\n",
    "    fontsize=10,\n",
    "    max_depth=2\n",
    ")\n",
    "plt.show()"
   ]
  },
  {
   "cell_type": "markdown",
   "id": "1ff42621-26f1-4514-af12-abe34ab3ab97",
   "metadata": {},
   "source": [
    "## NAIWNY KLASYFIKATOR BAYESA"
   ]
  },
  {
   "cell_type": "markdown",
   "id": "595d9ba4-4710-4f63-b0e3-cc6625850bc0",
   "metadata": {},
   "source": [
    "### Kodowanie zmiennych ilościowych i jakościowych (pierwszy model)"
   ]
  },
  {
   "cell_type": "code",
   "execution_count": 68,
   "id": "41034450-bf2a-4e8e-b8b0-24cc755b05cd",
   "metadata": {},
   "outputs": [],
   "source": [
    "categorical_cols_nb = [\n",
    "    col for col in X_train.columns\n",
    "    if X_train[col].dtype == \"object\"\n",
    "]\n",
    "\n",
    "numerical_cols_nb = [\n",
    "    col for col in X_train.columns\n",
    "    if X_train[col].dtype in [\"int64\", \"float64\"]\n",
    "]\n",
    "\n",
    "preprocessor_nb = ColumnTransformer(\n",
    "    transformers=[\n",
    "        (\"cat\", OneHotEncoder(handle_unknown=\"ignore\", sparse_output=False), categorical_cols_nb),\n",
    "        (\"num\", \"passthrough\", numerical_cols_nb)\n",
    "    ]\n",
    ")"
   ]
  },
  {
   "cell_type": "markdown",
   "id": "17f604ac-c803-44a3-9596-29a85579722e",
   "metadata": {},
   "source": [
    "### Budowa i ocena pierwszego modelu"
   ]
  },
  {
   "cell_type": "code",
   "execution_count": 69,
   "id": "f0c78391-63a0-46a8-bf18-8f6d9cb73427",
   "metadata": {},
   "outputs": [
    {
     "name": "stdout",
     "output_type": "stream",
     "text": [
      "Naiwny klasyfikator Bayesa (pierwszy model):\n",
      "               precision    recall  f1-score   support\n",
      "\n",
      "           0       0.94      0.38      0.54      9511\n",
      "           1       0.14      0.82      0.24      1190\n",
      "\n",
      "    accuracy                           0.43     10701\n",
      "   macro avg       0.54      0.60      0.39     10701\n",
      "weighted avg       0.85      0.43      0.50     10701\n",
      "\n"
     ]
    }
   ],
   "source": [
    "model_nb = Pipeline(steps=[\n",
    "    ('preprocessing', preprocessor_nb),\n",
    "    (\"smote\", SMOTE(random_state=42)),\n",
    "    ('classifier', GaussianNB())\n",
    "])\n",
    "\n",
    "model_nb.fit(X_train, y_train)\n",
    "\n",
    "y_pred_nb = model_nb.predict(X_test)\n",
    "print(\"Naiwny klasyfikator Bayesa (pierwszy model):\\n\", classification_report(y_test, y_pred_nb))"
   ]
  },
  {
   "cell_type": "markdown",
   "id": "ef69fe63-93f2-4da1-a5a7-29075821ba43",
   "metadata": {},
   "source": [
    "### Kodowanie zmiennych ilościowych i jakościowych (drugi model)"
   ]
  },
  {
   "cell_type": "code",
   "execution_count": 70,
   "id": "e00e2ae1-a27a-4884-be1a-bff585cefce5",
   "metadata": {},
   "outputs": [],
   "source": [
    "categorical_cols_nb2 = [\n",
    "    col for col in X_train_lr.columns\n",
    "    if X_train_lr[col].dtype == \"object\"\n",
    "]\n",
    "\n",
    "numerical_cols_nb2 = [\n",
    "    col for col in X_train_lr.columns\n",
    "    if X_train_lr[col].dtype in [\"int64\", \"float64\"]\n",
    "]\n",
    "\n",
    "preprocessor_nb2 = ColumnTransformer(\n",
    "    transformers=[\n",
    "        (\"cat\", OneHotEncoder(handle_unknown=\"ignore\", sparse_output=False), categorical_cols_nb2),\n",
    "        (\"num\", \"passthrough\", numerical_cols_nb2)\n",
    "    ]\n",
    ")"
   ]
  },
  {
   "cell_type": "markdown",
   "id": "f14839dc-c26e-4461-addf-d9f5fc6b8bae",
   "metadata": {},
   "source": [
    "### Budowa drugiego modelu"
   ]
  },
  {
   "cell_type": "code",
   "execution_count": 71,
   "id": "bacb3da5-5306-4d19-b7a8-e0da41a93e23",
   "metadata": {},
   "outputs": [
    {
     "name": "stdout",
     "output_type": "stream",
     "text": [
      "Naiwny klasyfikator Bayesa (drugi model):\n",
      "               precision    recall  f1-score   support\n",
      "\n",
      "           0       0.93      0.67      0.78      9511\n",
      "           1       0.18      0.58      0.27      1190\n",
      "\n",
      "    accuracy                           0.66     10701\n",
      "   macro avg       0.55      0.62      0.53     10701\n",
      "weighted avg       0.84      0.66      0.72     10701\n",
      "\n"
     ]
    }
   ],
   "source": [
    "model_nb2 = Pipeline(steps=[\n",
    "    ('preprocessing', preprocessor_nb2),\n",
    "    (\"smote\", SMOTE(random_state=42)),\n",
    "    ('classifier', GaussianNB())\n",
    "])\n",
    "\n",
    "model_nb2.fit(X_train_lr, y_train_lr)\n",
    "\n",
    "y_pred_nb2 = model_nb2.predict(X_test)\n",
    "print(\"Naiwny klasyfikator Bayesa (drugi model):\\n\", classification_report(y_test, y_pred_nb2))"
   ]
  }
 ],
 "metadata": {
  "kernelspec": {
   "display_name": "Python 3 (ipykernel)",
   "language": "python",
   "name": "python3"
  },
  "language_info": {
   "codemirror_mode": {
    "name": "ipython",
    "version": 3
   },
   "file_extension": ".py",
   "mimetype": "text/x-python",
   "name": "python",
   "nbconvert_exporter": "python",
   "pygments_lexer": "ipython3",
   "version": "3.11.5"
  }
 },
 "nbformat": 4,
 "nbformat_minor": 5
}
